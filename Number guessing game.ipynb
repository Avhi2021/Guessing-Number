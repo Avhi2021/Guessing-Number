{
 "cells": [
  {
   "cell_type": "code",
   "execution_count": 2,
   "id": "ed646359",
   "metadata": {},
   "outputs": [
    {
     "name": "stdout",
     "output_type": "stream",
     "text": [
      "Enter Lower bound:- 44\n",
      "Enter Upper bound55\n",
      "\n",
      "\t You've only 4 chance to guess the integer!\n",
      "\n",
      "Guess the number: - 51\n",
      "You Guessed too high!\n",
      "Guess the number: - 45\n",
      "Congratulations you did it in 2 try\n"
     ]
    }
   ],
   "source": [
    "import random \n",
    "import math\n",
    "# Taking input\n",
    "lower = int(input(\"Enter Lower bound:- \"))\n",
    "\n",
    "# taking input \n",
    "upper = int(input(\"Enter Upper bound:- \"))\n",
    "\n",
    "#generating random number between the lower and upper\n",
    "x = random.randint(lower,upper)\n",
    "print(\"\\n\\t You've only\",\n",
    "     round (math.log(upper - lower +1,2)),\n",
    "      \"chance to guess the integer!\\n\")\n",
    "# initializing the number of guesses.\n",
    "count = 0 \n",
    "\n",
    "#for calculation of minimum number of guesses depends upon range\n",
    "while count< math.log(upper - lower + 1,2 ):\n",
    "    count += 1\n",
    "    # taking guessing number as input\n",
    "    guess = int(input(\"Guess the number: - \"))\n",
    "    \n",
    "    #Condition testing\n",
    "    if x == guess:\n",
    "        print(\"Congratulations you did it in\",count, \"try\")\n",
    "        # once guessed, loop will break\n",
    "        break\n",
    "    elif x> guess:\n",
    "        print(\"You Guessed too small!\")\n",
    "    elif x < guess:\n",
    "        print(\"You Guessed too high!\")\n",
    "            \n",
    "    #if Guessing is more than required guesses, shows the output\n",
    "    if count >= math.log(upper-lower +1,2):\n",
    "        print(\"\\n The number is %d\" %x)\n",
    "        print(\"\\t Better Luck Next time!\")"
   ]
  },
  {
   "cell_type": "code",
   "execution_count": null,
   "id": "9d31818d",
   "metadata": {},
   "outputs": [],
   "source": []
  }
 ],
 "metadata": {
  "kernelspec": {
   "display_name": "Python 3 (ipykernel)",
   "language": "python",
   "name": "python3"
  },
  "language_info": {
   "codemirror_mode": {
    "name": "ipython",
    "version": 3
   },
   "file_extension": ".py",
   "mimetype": "text/x-python",
   "name": "python",
   "nbconvert_exporter": "python",
   "pygments_lexer": "ipython3",
   "version": "3.11.1"
  }
 },
 "nbformat": 4,
 "nbformat_minor": 5
}
